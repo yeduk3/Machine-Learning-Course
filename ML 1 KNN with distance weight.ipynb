{
 "cells": [
  {
   "cell_type": "code",
   "execution_count": 1,
   "metadata": {},
   "outputs": [
    {
     "name": "stdout",
     "output_type": "stream",
     "text": [
      "Requirement already satisfied: pandas in /opt/anaconda3/lib/python3.12/site-packages (2.2.2)\n",
      "Requirement already satisfied: numpy>=1.26.0 in /opt/anaconda3/lib/python3.12/site-packages (from pandas) (1.26.4)\n",
      "Requirement already satisfied: python-dateutil>=2.8.2 in /opt/anaconda3/lib/python3.12/site-packages (from pandas) (2.9.0.post0)\n",
      "Requirement already satisfied: pytz>=2020.1 in /opt/anaconda3/lib/python3.12/site-packages (from pandas) (2024.1)\n",
      "Requirement already satisfied: tzdata>=2022.7 in /opt/anaconda3/lib/python3.12/site-packages (from pandas) (2023.3)\n",
      "Requirement already satisfied: six>=1.5 in /opt/anaconda3/lib/python3.12/site-packages (from python-dateutil>=2.8.2->pandas) (1.16.0)\n"
     ]
    }
   ],
   "source": [
    "! pip install pandas\n",
    "import pandas as pd"
   ]
  },
  {
   "cell_type": "markdown",
   "metadata": {},
   "source": [
    "## scikit 내장 KNN"
   ]
  },
  {
   "cell_type": "code",
   "execution_count": 2,
   "metadata": {},
   "outputs": [
    {
     "name": "stdout",
     "output_type": "stream",
     "text": [
      "Accuracy: 100.00%\n"
     ]
    }
   ],
   "source": [
    "from sklearn.neighbors import KNeighborsClassifier \n",
    "from sklearn.datasets import load_iris \n",
    "from sklearn.model_selection import train_test_split \n",
    "\n",
    "\n",
    "# Load the iris dataset \n",
    "iris = load_iris() \n",
    " \n",
    "# Split the dataset into training and testing sets \n",
    "X_train, X_test, y_train, y_test = train_test_split(iris.data, iris.target, test_size=0.3, random_state=42) \n",
    " \n",
    "# Create the KNN model with k=3 \n",
    "knn = KNeighborsClassifier(n_neighbors=10) \n",
    " \n",
    "# Train the model on the training set \n",
    "knn.fit(X_train, y_train) \n",
    " \n",
    "# Evaluate the model on the testing set \n",
    "score = knn.score(X_test, y_test) \n",
    " \n",
    "print(\"Accuracy: %.2f%%\" % (score * 100.0)) \n"
   ]
  },
  {
   "cell_type": "markdown",
   "metadata": {},
   "source": [
    "## scikit 내장 Perceptron & Scaler"
   ]
  },
  {
   "cell_type": "code",
   "execution_count": 3,
   "metadata": {},
   "outputs": [
    {
     "name": "stdout",
     "output_type": "stream",
     "text": [
      "Scaler 적용 안 함\n",
      "잘못 분류된 샘플 개수: 15\n",
      "Scaler 적용\n",
      "잘못 분류된 샘플 개수: 4\n"
     ]
    }
   ],
   "source": [
    "\n",
    "# Load the iris dataset \n",
    "iris = load_iris() \n",
    "\n",
    "# Split the dataset into training and testing sets \n",
    "X_train, X_test, y_train, y_test = train_test_split(iris.data, iris.target, test_size=0.3, random_state=0, stratify=iris.target) \n",
    "\n",
    "\n",
    "from sklearn.linear_model import Perceptron\n",
    "\n",
    "\n",
    "# Scaler 적용하기 전,\n",
    "print('Scaler 적용 안 함')\n",
    "\n",
    "ppn = Perceptron(eta0=0.1, random_state=1)\n",
    "ppn.fit(X_train, y_train)\n",
    "\n",
    "y_pred = ppn.predict(X_test)\n",
    "print('잘못 분류된 샘플 개수: %d' % (y_test != y_pred).sum())\n",
    " \n",
    "\n",
    "# Scaler를 적용하면,\n",
    "print('Scaler 적용')\n",
    "\n",
    "from sklearn.preprocessing import StandardScaler\n",
    "\n",
    "sc = StandardScaler()\n",
    "sc.fit(X_train)\n",
    "X_train_std = sc.transform(X_train)\n",
    "X_test_std = sc.transform(X_test)\n",
    "\n",
    "ppn.fit(X_train_std, y_train)\n",
    "\n",
    "y_pred = ppn.predict(X_test_std)\n",
    "print('잘못 분류된 샘플 개수: %d' % (y_test != y_pred).sum())\n",
    " "
   ]
  },
  {
   "cell_type": "markdown",
   "metadata": {},
   "source": [
    "## My own KNN algorithm"
   ]
  },
  {
   "cell_type": "code",
   "execution_count": 4,
   "metadata": {},
   "outputs": [
    {
     "name": "stdout",
     "output_type": "stream",
     "text": [
      "- Small K = 3\n",
      "Accuracy: 95.56%\n",
      "잘못 분류된 샘플 개수: 2\n",
      "- Large K = 45\n",
      "Accuracy: 84.44%\n",
      "잘못 분류된 샘플 개수: 7\n"
     ]
    },
    {
     "data": {
      "text/plain": [
       "84.44444444444444"
      ]
     },
     "execution_count": 4,
     "metadata": {},
     "output_type": "execute_result"
    }
   ],
   "source": [
    "iris = load_iris()\n",
    "\n",
    "X_train, X_test, y_train, y_test = train_test_split(iris.data, iris.target, test_size=0.3, random_state=1, stratify=iris.target) \n",
    "\n",
    "sc = StandardScaler()\n",
    "sc.fit(X_train)\n",
    "X_train_std = sc.transform(X_train)\n",
    "X_test_std = sc.transform(X_test)\n",
    "\n",
    "# for i in range(X_train_std.size)\n",
    "\n",
    "import math\n",
    "def distance(a, b, n):\n",
    "    ret = 0.0\n",
    "    for i in range(n):\n",
    "        ret += pow(a[i] - b[i], 2)\n",
    "    return math.sqrt(ret)\n",
    "\n",
    "def KNN(X_tr, X_te, y_tr, y_te, k: int, summary: bool=True):\n",
    "    trainCount = X_tr.shape[0]\n",
    "    testCount = X_te.shape[0]\n",
    "    correct = 0\n",
    "    for i in range(testCount):\n",
    "        # dist[j][0]: distance between train[j] and test\n",
    "        # dist[j][1]: j\n",
    "        dist = []\n",
    "        for j in range(trainCount):\n",
    "            dist.append([distance(X_tr[j], X_te[i], X_te.shape[1]), j])\n",
    "        dist.sort() #sort by dist[0]\n",
    "\n",
    "        count = {}\n",
    "        for j in range(k):\n",
    "            count[y_tr[dist[j][1]]] = count.get(y_tr[dist[j][1]], 0) + 1\n",
    "\n",
    "        if y_te[i] == max(count,key=count.get): # get 이용\n",
    "            correct += 1\n",
    "\n",
    "    accuracy = (correct / testCount * 100)\n",
    "    if summary:\n",
    "        print('Accuracy: %.2f%%' % accuracy)\n",
    "        print('잘못 분류된 샘플 개수: %d' % (testCount - correct))\n",
    "\n",
    "    return accuracy\n",
    "\n",
    "print('- Small K = 3')\n",
    "KNN(X_train_std, X_test_std, y_train, y_test, k=3)\n",
    "print('- Large K = 45')\n",
    "KNN(X_train_std, X_test_std, y_train, y_test, k=45)"
   ]
  },
  {
   "cell_type": "markdown",
   "metadata": {},
   "source": [
    "## My own Distance weighted KNN algorithm\n",
    "\n",
    "기본 KNN 알고리즘에서 거리에 따른 가중치를 부여해보자.\n",
    "\n",
    "기대효과: 조금은 더 정확한 분류? K에만 너무 dominant하지 않고 실제 데이터셋의 특성을 더욱 반영한 모델?"
   ]
  },
  {
   "cell_type": "code",
   "execution_count": 5,
   "metadata": {},
   "outputs": [
    {
     "name": "stdout",
     "output_type": "stream",
     "text": [
      "- Small K = 3\n",
      "Accuracy: 97.78%\n",
      "잘못 분류된 샘플 개수: 1\n",
      "- Large K = 45\n",
      "Accuracy: 91.11%\n",
      "잘못 분류된 샘플 개수: 4\n"
     ]
    },
    {
     "data": {
      "text/plain": [
       "91.11111111111111"
      ]
     },
     "execution_count": 5,
     "metadata": {},
     "output_type": "execute_result"
    }
   ],
   "source": [
    "\n",
    "def KNN_with_distance(X_tr, X_te, y_tr, y_te, k: int, summary: bool=True):\n",
    "    trainCount = X_tr.shape[0]\n",
    "    testCount = X_te.shape[0]\n",
    "    correct = 0\n",
    "    for i in range(testCount):\n",
    "        # dist[j][0]: distance between train[j] and test\n",
    "        # dist[j][1]: j\n",
    "        dist = []\n",
    "        for j in range(trainCount):\n",
    "            dist.append([distance(X_tr[j], X_te[i], X_te.shape[1]), j])\n",
    "        dist.sort() #sort by dist[0]\n",
    "\n",
    "        count = {}\n",
    "        zeroDist = False\n",
    "        j = 0\n",
    "        for j in range(k):\n",
    "            if dist[j][0] == 0:\n",
    "                zeroDist = True\n",
    "                break\n",
    "            count[y_tr[dist[j][1]]] = count.get(y_tr[dist[j][1]], 0) + (1/dist[j][0])\n",
    "\n",
    "        if zeroDist and y_tr[dist[j][1]] == y_te[i]:\n",
    "            correct += 1\n",
    "        elif y_te[i] == max(count,key=count.get): # key=get으로 value 최대 구하기\n",
    "            correct += 1\n",
    "\n",
    "    accuracy = (correct / testCount * 100)\n",
    "    if summary:\n",
    "        print('Accuracy: %.2f%%' % accuracy)\n",
    "        print('잘못 분류된 샘플 개수: %d' % (testCount - correct))\n",
    "\n",
    "    return accuracy\n",
    "\n",
    "print('- Small K = 3')\n",
    "KNN_with_distance(X_train_std, X_test_std, y_train, y_test, k=3)\n",
    "print('- Large K = 45')\n",
    "KNN_with_distance(X_train_std, X_test_std, y_train, y_test, k=45)"
   ]
  },
  {
   "cell_type": "markdown",
   "metadata": {},
   "source": [
    "## Comparison"
   ]
  },
  {
   "cell_type": "code",
   "execution_count": 6,
   "metadata": {},
   "outputs": [
    {
     "name": "stdout",
     "output_type": "stream",
     "text": [
      "Compare when random_state ranges [0,50)\n",
      "KNN\n",
      "- Small K =  3 Accuracy: 94.09%\n",
      "- Large K = 45 Accuracy: 85.60%\n",
      "KNN with distance\n",
      "- Small K =  3 Accuracy: 94.49%\n",
      "- Large K = 45 Accuracy: 92.40%\n"
     ]
    }
   ],
   "source": [
    "acc03g = 0\n",
    "acc45g = 0\n",
    "acc03d = 0\n",
    "acc45d = 0\n",
    "\n",
    "tCount = 50\n",
    "print('Compare when random_state ranges [0,%d)' % tCount)\n",
    "for i in range(tCount):\n",
    "    X_train, X_test, y_train, y_test = train_test_split(iris.data, iris.target, test_size=0.3, random_state=i, stratify=iris.target) \n",
    "\n",
    "    sc = StandardScaler()\n",
    "    sc.fit(X_train)\n",
    "    X_train_std = sc.transform(X_train)\n",
    "    X_test_std = sc.transform(X_test)\n",
    "\n",
    "    acc03g = acc03g + KNN(X_train_std, X_test_std, y_train, y_test, k=3, summary=False)\n",
    "    acc45g = acc45g + KNN(X_train_std, X_test_std, y_train, y_test, k=45, summary=False)\n",
    "\n",
    "    acc03d = acc03d + KNN_with_distance(X_train_std, X_test_std, y_train, y_test, k=3, summary=False)\n",
    "    acc45d = acc45d + KNN_with_distance(X_train_std, X_test_std, y_train, y_test, k=45, summary=False)\n",
    "\n",
    "print('KNN')\n",
    "print('- Small K =  3 Accuracy: %.2f%%' % (acc03g / tCount))\n",
    "print('- Large K = 45 Accuracy: %.2f%%' % (acc45g / tCount))\n",
    "print('KNN with distance')\n",
    "print('- Small K =  3 Accuracy: %.2f%%' % (acc03d / tCount))\n",
    "print('- Large K = 45 Accuracy: %.2f%%' % (acc45d / tCount))\n"
   ]
  },
  {
   "cell_type": "code",
   "execution_count": 7,
   "metadata": {},
   "outputs": [
    {
     "name": "stdout",
     "output_type": "stream",
     "text": [
      "KNN\n",
      "- Small K =  3 Accuracy: 95.41%\n",
      "- Large K = 54 Accuracy: 95.33%\n",
      "KNN with distance\n",
      "- Small K =  3 Accuracy: 95.41%\n",
      "- Large K = 54 Accuracy: 96.00%\n"
     ]
    }
   ],
   "source": [
    "from sklearn.datasets import load_wine\n",
    "\n",
    "wine = load_wine()\n",
    "\n",
    "res = [0.0, 0.0, 0.0, 0.0]\n",
    "tCount = 50\n",
    "for i in range(50):\n",
    "    X_train, X_test, y_train, y_test = train_test_split(wine.data, wine.target, test_size=0.3, random_state=i, stratify=wine.target)\n",
    "\n",
    "    sc.fit(X_train)\n",
    "    X_train_std = sc.transform(X_train)\n",
    "    X_test_std = sc.transform(X_test)\n",
    "\n",
    "    res[0] += KNN(X_train_std, X_test_std, y_train, y_test, 3, summary=False)\n",
    "    res[1] += KNN(X_train_std, X_test_std, y_train, y_test, 54, summary=False)\n",
    "    res[2] += KNN_with_distance(X_train_std, X_test_std, y_train, y_test, 3, summary=False)\n",
    "    res[3] += KNN_with_distance(X_train_std, X_test_std, y_train, y_test, 54, summary=False)\n",
    "\n",
    "\n",
    "print('KNN')\n",
    "print('- Small K =  3 Accuracy: %.2f%%' % (res[0] / tCount))\n",
    "print('- Large K = 54 Accuracy: %.2f%%' % (res[1] / tCount))\n",
    "print('KNN with distance')\n",
    "print('- Small K =  3 Accuracy: %.2f%%' % (res[2] / tCount))\n",
    "print('- Large K = 54 Accuracy: %.2f%%' % (res[3] / tCount))"
   ]
  },
  {
   "cell_type": "code",
   "execution_count": null,
   "metadata": {},
   "outputs": [],
   "source": []
  }
 ],
 "metadata": {
  "kernelspec": {
   "display_name": "base",
   "language": "python",
   "name": "python3"
  },
  "language_info": {
   "codemirror_mode": {
    "name": "ipython",
    "version": 3
   },
   "file_extension": ".py",
   "mimetype": "text/x-python",
   "name": "python",
   "nbconvert_exporter": "python",
   "pygments_lexer": "ipython3",
   "version": "3.12.7"
  }
 },
 "nbformat": 4,
 "nbformat_minor": 4
}
